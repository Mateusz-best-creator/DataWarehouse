{
 "cells": [
  {
   "cell_type": "code",
   "execution_count": 174,
   "metadata": {},
   "outputs": [],
   "source": [
    "departments = [\n",
    "    \"Computer Science\", \"Mechanical Engineering\", \"Electrical Engineering\", \"Civil Engineering\",\n",
    "    \"Mathematics\", \"Physics\", \"Chemistry\", \"Biology\", \"Business Administration\",\n",
    "    \"Economics\", \"Psychology\", \"Sociology\", \"Political Science\", \"History\",\n",
    "    \"Philosophy\", \"English Literature\", \"Linguistics\", \"Environmental Science\",\n",
    "    \"Medicine\", \"Law\", \"Architecture\", \"Art  Design\", \"Music\", \"Theater Arts\",\n",
    "    \"Education\", \"Nursing\", \"Astronomy\", \"Anthropology\", \"Statistics\", \"Robotics\"\n",
    "]\n",
    "\n",
    "department_IDs = [\n",
    "    101, 102, 103, 104, 105, 106, 107, 108, 109, 110,\n",
    "    111, 112, 113, 114, 115, 116, 117, 118, 119, 120,\n",
    "    121, 122, 123, 124, 125, 126, 127, 128, 129, 130\n",
    "]\n",
    "\n",
    "department_Locations = [\n",
    "    (37.7749, -122.4194), (40.7128, -74.0060), (34.0522, -118.2437), (51.5074, -0.1278),\n",
    "    (48.8566, 2.3522), (35.6895, 139.6917), (55.7558, 37.6173), (39.9042, 116.4074),\n",
    "    (41.8781, -87.6298), (45.4642, 9.1900), (52.5200, 13.4050), (50.8503, 4.3517),\n",
    "    (40.4168, -3.7038), (19.4326, -99.1332), (28.6139, 77.2090), (1.3521, 103.8198),\n",
    "    (-33.8688, 151.2093), (-23.5505, -46.6333), (13.7563, 100.5018), (-34.6037, -58.3816),\n",
    "    (31.2304, 121.4737), (37.5665, 126.9780), (25.276987, 55.296249), (59.3293, 18.0686),\n",
    "    (55.9533, -3.1883), (60.1695, 24.9354), (52.2298, 21.0122), (41.9028, 12.4964),\n",
    "    (35.6895, 139.6917), (32.7767, -96.7970)\n",
    "]\n",
    "\n",
    "first_names = [\n",
    "    \"Aaron\", \"Abigail\", \"Adam\", \"Aiden\", \"Alexander\", \"Alice\", \"Amelia\", \"Andrew\", \"Angelina\", \"Anthony\",\n",
    "    \"Aria\", \"Asher\", \"Aubrey\", \"Aurora\", \"Austin\", \"Ava\", \"Benjamin\", \"Blake\", \"Brandon\", \"Brianna\",\n",
    "    \"Caleb\", \"Cameron\", \"Caroline\", \"Carter\", \"Charles\", \"Charlotte\", \"Chloe\", \"Christopher\", \"Claire\", \"Connor\",\n",
    "    \"Daniel\", \"David\", \"Delilah\", \"Dominic\", \"Dylan\", \"Eleanor\", \"Eli\", \"Elijah\", \"Elizabeth\", \"Ella\",\n",
    "    \"Emily\", \"Emma\", \"Ethan\", \"Evan\", \"Ezekiel\", \"Ezra\", \"Felix\", \"Gabriel\", \"Genesis\", \"George\",\n",
    "    \"Grace\", \"Grayson\", \"Hannah\", \"Harper\", \"Hazel\", \"Henry\", \"Hudson\", \"Hunter\", \"Ian\", \"Isaac\",\n",
    "    \"Isabella\", \"Isla\", \"Jack\", \"Jackson\", \"Jacob\", \"James\", \"Jasmine\", \"Jason\", \"Jayden\", \"Jeremiah\",\n",
    "    \"John\", \"Jonathan\", \"Jordan\", \"Joseph\", \"Joshua\", \"Julian\", \"Katherine\", \"Kayla\", \"Kennedy\", \"Kevin\",\n",
    "    \"Landon\", \"Layla\", \"Leo\", \"Levi\", \"Liam\", \"Lillian\", \"Lily\", \"Lincoln\", \"Lucas\", \"Luke\",\n",
    "    \"Madeline\", \"Madison\", \"Mason\", \"Matthew\", \"Maya\", \"Michael\", \"Mila\", \"Nathan\", \"Noah\", \"Nora\"\n",
    "]\n",
    "\n",
    "surnames = [\n",
    "    \"Adams\", \"Allen\", \"Anderson\", \"Armstrong\", \"Bailey\", \"Baker\", \"Barnes\", \"Bell\", \"Bennett\", \"Brooks\",\n",
    "    \"Brown\", \"Bryant\", \"Butler\", \"Campbell\", \"Carter\", \"Clark\", \"Collins\", \"Cook\", \"Cooper\", \"Cox\",\n",
    "    \"Davis\", \"Diaz\", \"Edwards\", \"Evans\", \"Fisher\", \"Flores\", \"Foster\", \"Garcia\", \"Gonzalez\", \"Graham\",\n",
    "    \"Green\", \"Hall\", \"Harris\", \"Harrison\", \"Hayes\", \"Henderson\", \"Hernandez\", \"Hill\", \"Howard\", \"Hughes\",\n",
    "    \"Jackson\", \"James\", \"Jenkins\", \"Johnson\", \"Jones\", \"Kelly\", \"King\", \"Lee\", \"Lewis\", \"Long\",\n",
    "    \"Lopez\", \"Martin\", \"Martinez\", \"Miller\", \"Mitchell\", \"Moore\", \"Morales\", \"Morgan\", \"Morris\", \"Murphy\",\n",
    "    \"Nelson\", \"Nguyen\", \"Parker\", \"Patterson\", \"Perez\", \"Phillips\", \"Powell\", \"Price\", \"Ramirez\", \"Reed\",\n",
    "    \"Richardson\", \"Rivera\", \"Roberts\", \"Robinson\", \"Rodriguez\", \"Rogers\", \"Ross\", \"Russell\", \"Sanchez\", \"Sanders\",\n",
    "    \"Scott\", \"Simmons\", \"Smith\", \"Stewart\", \"Sullivan\", \"Taylor\", \"Thomas\", \"Thompson\", \"Torres\", \"Turner\",\n",
    "    \"Walker\", \"Ward\", \"Washington\", \"Watson\", \"White\", \"Williams\", \"Wilson\", \"Wood\", \"Wright\", \"Young\"\n",
    "]\n",
    "\n",
    "specializations = [\n",
    "    \"Artificial Intelligence\", \"Machine Learning\", \"Data Science\", \"Cybersecurity\", \"Cloud Computing\",\n",
    "    \"Software Engineering\", \"Computer Networks\", \"HumanComputer Interaction\", \"Blockchain Technology\", \"Game Development\",\n",
    "    \"Embedded Systems\", \"Internet of Things (IoT)\", \"Bioinformatics\", \"Quantum Computing\", \"Robotics\",\n",
    "    \"Automotive Engineering\", \"Aeronautical Engineering\", \"Renewable Energy Engineering\", \"Nanotechnology\", \"Materials Science\",\n",
    "    \"Structural Engineering\", \"Geotechnical Engineering\", \"Environmental Engineering\", \"Hydraulic Engineering\", \"Transportation Engineering\",\n",
    "    \"Wireless Communication\", \"Microelectronics\", \"Power Systems Engineering\", \"Signal Processing\", \"Control Systems\",\n",
    "    \"Theoretical Physics\", \"Nuclear Physics\", \"Astrophysics\", \"Biophysics\", \"Condensed Matter Physics\",\n",
    "    \"Organic Chemistry\", \"Inorganic Chemistry\", \"Analytical Chemistry\", \"Physical Chemistry\", \"Pharmaceutical Chemistry\",\n",
    "    \"Molecular Biology\", \"Genetics\", \"Biotechnology\", \"Neuroscience\", \"Microbiology\",\n",
    "    \"Marine Biology\", \"Ecology\", \"Zoology\", \"Botany\", \"Bioengineering\",\n",
    "    \"Finance\", \"Accounting\", \"Marketing\", \"International Business\", \"Entrepreneurship\",\n",
    "    \"Human Resource Management\", \"Supply Chain Management\", \"Econometrics\", \"Behavioral Economics\", \"Game Theory\",\n",
    "    \"Clinical Psychology\", \"Cognitive Psychology\", \"Educational Psychology\", \"Industrial Psychology\", \"Forensic Psychology\",\n",
    "    \"Sociology of Technology\", \"Criminology\", \"Urban Sociology\", \"Cultural Anthropology\", \"Archaeology\",\n",
    "    \"Political Philosophy\", \"Public Policy\", \"International Relations\", \"Comparative Politics\", \"Diplomacy\",\n",
    "    \"Medieval History\", \"Modern History\", \"World History\", \"Military History\", \"History of Science\",\n",
    "    \"Ethics\", \"Epistemology\", \"Metaphysics\", \"Logic\", \"Aesthetics\",\n",
    "    \"Linguistics\", \"Syntax and Semantics\", \"Applied Linguistics\", \"Translation Studies\", \"Computational Linguistics\",\n",
    "    \"Environmental Science\", \"Climatology\", \"Geospatial Science\", \"Sustainable Development\", \"Conservation Biology\",\n",
    "    \"Theater and Performing Arts\", \"Music Composition\", \"Fine Arts\", \"Photography\", \"Creative Writing\",\n",
    "    \"Education Policy\", \"Special Education\", \"Curriculum Development\", \"Instructional Design\", \"Educational Technology\"\n",
    "]\n",
    "\n",
    "study_fields = [\n",
    "    \"Computer Science\", \"Computer Science\", \"Computer Science\", \"Computer Science\", \"Computer Science\",\n",
    "    \"Computer Science\", \"Computer Science\", \"Computer Science\", \"Computer Science\", \"Computer Science\",\n",
    "    \"Computer Science\", \"Computer Science\", \"Biotechnology\", \"Computer Science\", \"Robotics\",\n",
    "    \"Mechanical Engineering\", \"Aeronautical Engineering\", \"Energy Engineering\", \"Nanotechnology\", \"Materials Science\",\n",
    "    \"Civil Engineering\", \"Civil Engineering\", \"Environmental Engineering\", \"Civil Engineering\", \"Civil Engineering\",\n",
    "    \"Electrical Engineering\", \"Electrical Engineering\", \"Electrical Engineering\", \"Electrical Engineering\", \"Electrical Engineering\",\n",
    "    \"Physics\", \"Physics\", \"Physics\", \"Physics\", \"Physics\",\n",
    "    \"Chemistry\", \"Chemistry\", \"Chemistry\", \"Chemistry\", \"Chemistry\",\n",
    "    \"Biology\", \"Biology\", \"Biology\", \"Biology\", \"Biology\",\n",
    "    \"Biology\", \"Biology\", \"Biology\", \"Biology\", \"Biomedical Engineering\",\n",
    "    \"Business\", \"Business\", \"Business\", \"Business\", \"Business\",\n",
    "    \"Business\", \"Business\", \"Economics\", \"Economics\", \"Economics\",\n",
    "    \"Psychology\", \"Psychology\", \"Psychology\", \"Psychology\", \"Psychology\",\n",
    "    \"Sociology\", \"Sociology\", \"Sociology\", \"Anthropology\", \"Anthropology\",\n",
    "    \"Philosophy\", \"Political Science\", \"Political Science\", \"Political Science\", \"Political Science\",\n",
    "    \"History\", \"History\", \"History\", \"History\", \"History\",\n",
    "    \"Philosophy\", \"Philosophy\", \"Philosophy\", \"Philosophy\", \"Philosophy\",\n",
    "    \"Linguistics\", \"Linguistics\", \"Linguistics\", \"Linguistics\", \"Linguistics\",\n",
    "    \"Environmental Science\", \"Environmental Science\", \"Geography\", \"Environmental Science\", \"Environmental Science\",\n",
    "    \"Fine Arts\", \"Music\", \"Fine Arts\", \"Fine Arts\", \"Fine Arts\",\n",
    "    \"Education\", \"Education\", \"Education\", \"Education\", \"Education\"\n",
    "]\n",
    "\n",
    "specializations_ID = range(1, len(specializations) + 1)\n"
   ]
  },
  {
   "cell_type": "code",
   "execution_count": 175,
   "metadata": {},
   "outputs": [
    {
     "data": {
      "text/plain": [
       "(range(1, 106), 105)"
      ]
     },
     "execution_count": 175,
     "metadata": {},
     "output_type": "execute_result"
    }
   ],
   "source": [
    "specializations_ID, len(specializations_ID)"
   ]
  },
  {
   "cell_type": "code",
   "execution_count": 176,
   "metadata": {},
   "outputs": [
    {
     "data": {
      "text/plain": [
       "datetime.date(2012, 10, 29)"
      ]
     },
     "execution_count": 176,
     "metadata": {},
     "output_type": "execute_result"
    }
   ],
   "source": [
    "from faker import Faker\n",
    "\n",
    "def generate_random_date():\n",
    "    fake = Faker()\n",
    "    # year, month, day\n",
    "    return fake.date_between(start_date='-30y', end_date='today')\n",
    "\n",
    "generate_random_date()"
   ]
  },
  {
   "cell_type": "code",
   "execution_count": 177,
   "metadata": {},
   "outputs": [
    {
     "ename": "ValueError",
     "evalue": "invalid literal for int() with base 10: ''",
     "output_type": "error",
     "traceback": [
      "\u001b[1;31m---------------------------------------------------------------------------\u001b[0m",
      "\u001b[1;31mValueError\u001b[0m                                Traceback (most recent call last)",
      "Cell \u001b[1;32mIn[177], line 1\u001b[0m\n\u001b[1;32m----> 1\u001b[0m num_of_student_members \u001b[39m=\u001b[39m \u001b[39mint\u001b[39;49m(\u001b[39minput\u001b[39;49m(\u001b[39m\"\u001b[39;49m\u001b[39mGive the number of student members to generate: \u001b[39;49m\u001b[39m\"\u001b[39;49m))\n\u001b[0;32m      2\u001b[0m num_of_prefessors_members \u001b[39m=\u001b[39m \u001b[39mint\u001b[39m(\u001b[39minput\u001b[39m(\u001b[39m\"\u001b[39m\u001b[39mGive the number of professor members to generate: \u001b[39m\u001b[39m\"\u001b[39m))\n",
      "\u001b[1;31mValueError\u001b[0m: invalid literal for int() with base 10: ''"
     ]
    }
   ],
   "source": [
    "num_of_student_members = int(input(\"Give the number of student members to generate: \"))\n",
    "num_of_prefessors_members = int(input(\"Give the number of professor members to generate: \"))"
   ]
  },
  {
   "cell_type": "code",
   "execution_count": null,
   "metadata": {},
   "outputs": [],
   "source": [
    "import pandas as pd\n",
    "import numpy as np\n",
    "\n",
    "University_ID = 100_000\n",
    "\n",
    "student_df = {\n",
    "    \"University_ID\": [],\n",
    "    \"Enrollment_Year\": []\n",
    "}\n",
    "\n",
    "professor_df = {\n",
    "    \"University_ID\": [],\n",
    "    \"EmploymentStartDate\": [],\n",
    "    \"Degree\": []\n",
    "}\n",
    "\n",
    "faculty_member_df = {\n",
    "    \"University_ID\": [],\n",
    "    \"First_Name\": [],\n",
    "    \"Last_Name\": [],\n",
    "    \"Email\": [],\n",
    "    \"Publications_Count\": []\n",
    "}\n",
    "\n",
    "for i in range(num_of_student_members):\n",
    "    \n",
    "    name = first_names[np.random.randint(0, len(first_names) - 1)]\n",
    "    surname = surnames[np.random.randint(0, len(surnames) - 1)]\n",
    "    id = University_ID\n",
    "    enrollment_year = np.random.randint(2014, 2025)\n",
    "    email = f\"{name[0]}{surname[0]}s{id}@uni.edu.pl\"\n",
    "    pub_count = np.random.randint(0, 20)\n",
    "\n",
    "    student_df[\"University_ID\"].append(id)\n",
    "    student_df[\"Enrollment_Year\"].append(enrollment_year)\n",
    "\n",
    "    faculty_member_df[\"University_ID\"].append(id)\n",
    "    faculty_member_df[\"First_Name\"].append(name)\n",
    "    faculty_member_df[\"Last_Name\"].append(surname)\n",
    "    faculty_member_df[\"Email\"].append(email)\n",
    "    faculty_member_df[\"Publications_Count\"].append(pub_count)\n",
    "    \n",
    "    University_ID += 1\n",
    "\n",
    "for i in range(num_of_prefessors_members):\n",
    "    \n",
    "    name = first_names[np.random.randint(0, len(first_names) - 1)]\n",
    "    surname = surnames[np.random.randint(0, len(surnames) - 1)]\n",
    "    id = University_ID\n",
    "    employment_start_date = generate_random_date()\n",
    "    email = f\"pr{name[0]}{surname[0]}s{id}@uni.edu.pl\"\n",
    "    pub_count = np.random.randint(20, 50)\n",
    "    Degree = np.random.choice([\"Engineer\", \"Master\", \"Professor1\", \"Professor2\"])\n",
    "\n",
    "    professor_df[\"University_ID\"].append(id)\n",
    "    professor_df[\"EmploymentStartDate\"].append(employment_start_date)\n",
    "    professor_df[\"Degree\"].append(Degree)\n",
    "\n",
    "    faculty_member_df[\"University_ID\"].append(id)\n",
    "    faculty_member_df[\"First_Name\"].append(name)\n",
    "    faculty_member_df[\"Last_Name\"].append(surname)\n",
    "    faculty_member_df[\"Email\"].append(email)\n",
    "    faculty_member_df[\"Publications_Count\"].append(pub_count)\n",
    "\n",
    "    University_ID += 1\n"
   ]
  },
  {
   "cell_type": "code",
   "execution_count": 178,
   "metadata": {},
   "outputs": [
    {
     "data": {
      "text/plain": [
       "dict_keys(['University_ID', 'First_Name', 'Last_Name', 'Email', 'Publications_Count'])"
      ]
     },
     "execution_count": 178,
     "metadata": {},
     "output_type": "execute_result"
    }
   ],
   "source": [
    "faculty_member_df.keys()"
   ]
  },
  {
   "cell_type": "code",
   "execution_count": 179,
   "metadata": {},
   "outputs": [],
   "source": [
    "Department_df = {\n",
    "    \"Department_ID\": [],\n",
    "    \"Department_Name\": [],\n",
    "    \"Location\": []\n",
    "}\n",
    "\n",
    "student_department_df = {\n",
    "    \"Student_ID\": [],\n",
    "    \"Department_ID\": [],\n",
    "}\n",
    "\n",
    "professor_department_df = {\n",
    "    \"Professor_ID\": [],\n",
    "    \"Department_ID\": [],\n",
    "}\n",
    "\n",
    "\n",
    "for i in range(len(departments)):\n",
    "\n",
    "    Department_df[\"Department_ID\"].append(department_IDs[i])\n",
    "    Department_df[\"Department_Name\"].append(departments[i])\n",
    "    Department_df[\"Location\"].append(str(department_Locations[i][0]) + str(department_Locations[i][1]))\n",
    "    \n",
    "for i in range(len(student_df[\"University_ID\"])):\n",
    "\n",
    "    id = student_df[\"University_ID\"][i]\n",
    "    departments_temp = [None]\n",
    "\n",
    "    random_num = np.random.randint(1, 100)\n",
    "    faculties = 1\n",
    "    if random_num <= 40:\n",
    "        faculties = 2\n",
    "    if random_num <= 5:\n",
    "        faculties = 3\n",
    "\n",
    "    for j in range(faculties):\n",
    "        \n",
    "        department_id = None\n",
    "        while department_id in departments_temp:\n",
    "            department_id = np.random.choice(Department_df[\"Department_ID\"])\n",
    "        departments_temp.append(department_id)\n",
    "\n",
    "        student_department_df[\"Student_ID\"].append(id)\n",
    "        student_department_df[\"Department_ID\"].append(department_id)\n",
    "\n",
    "for i in range(len(professor_df[\"University_ID\"])):\n",
    "\n",
    "    id = professor_df[\"University_ID\"][i]\n",
    "    departments_temp = [None]\n",
    "    for j in range(np.random.randint(1, 5)):\n",
    "        \n",
    "        department_id = None\n",
    "        while department_id in departments_temp:\n",
    "            department_id = np.random.choice(Department_df[\"Department_ID\"])\n",
    "        departments_temp.append(department_id)\n",
    "\n",
    "        professor_department_df[\"Professor_ID\"].append(id)\n",
    "        professor_department_df[\"Department_ID\"].append(department_id)"
   ]
  },
  {
   "cell_type": "code",
   "execution_count": 180,
   "metadata": {},
   "outputs": [
    {
     "data": {
      "text/plain": [
       "[101000,\n",
       " 101000,\n",
       " 101001,\n",
       " 101001,\n",
       " 101001,\n",
       " 101001,\n",
       " 101002,\n",
       " 101002,\n",
       " 101002,\n",
       " 101002]"
      ]
     },
     "execution_count": 180,
     "metadata": {},
     "output_type": "execute_result"
    }
   ],
   "source": [
    "professor_department_df[\"Professor_ID\"][:10]"
   ]
  },
  {
   "cell_type": "code",
   "execution_count": 181,
   "metadata": {},
   "outputs": [
    {
     "data": {
      "text/plain": [
       "[105, 120, 111, 124, 103]"
      ]
     },
     "execution_count": 181,
     "metadata": {},
     "output_type": "execute_result"
    }
   ],
   "source": [
    "professor_department_df[\"Department_ID\"][:5]"
   ]
  },
  {
   "cell_type": "code",
   "execution_count": 182,
   "metadata": {},
   "outputs": [],
   "source": [
    "specialization_df = {\n",
    "    \"ID\": [],\n",
    "    \"Name\": [],\n",
    "    \"Study_Field\": []\n",
    "}\n",
    "\n",
    "specialization_faculty_member_df = {\n",
    "    \"Specialization_ID\": [],\n",
    "    \"Member_ID\": []\n",
    "}\n",
    "\n",
    "\n",
    "for i in range(len(specializations)):\n",
    "    \n",
    "    id = specializations_ID[i]\n",
    "    name = specializations[i]\n",
    "    study_field = study_fields[i]\n",
    "\n",
    "    specialization_df[\"ID\"].append(id)\n",
    "    specialization_df[\"Name\"].append(name)\n",
    "    specialization_df[\"Study_Field\"].append(study_field)\n",
    "\n",
    "for i in range(len(faculty_member_df[\"University_ID\"])):\n",
    "\n",
    "    times = None\n",
    "    if faculty_member_df[\"Email\"][:2] == \"pr\":\n",
    "        times = np.random.randint(2, 6)\n",
    "    else:\n",
    "        times = np.random.randint(1, 3)\n",
    "\n",
    "    chosen_spec = [None]\n",
    "\n",
    "    for j in range(times):\n",
    "\n",
    "        id = faculty_member_df[\"University_ID\"][i]\n",
    "        spec_id = None\n",
    "        while spec_id in chosen_spec:\n",
    "            spec_id = np.random.choice(specializations_ID)\n",
    "        chosen_spec.append(spec_id)\n",
    "\n",
    "        specialization_faculty_member_df[\"Specialization_ID\"].append(spec_id)\n",
    "        specialization_faculty_member_df[\"Member_ID\"].append(id)"
   ]
  },
  {
   "cell_type": "code",
   "execution_count": 183,
   "metadata": {},
   "outputs": [
    {
     "data": {
      "text/plain": [
       "(105, 105)"
      ]
     },
     "execution_count": 183,
     "metadata": {},
     "output_type": "execute_result"
    }
   ],
   "source": [
    "len(study_fields), len(specializations)"
   ]
  },
  {
   "cell_type": "code",
   "execution_count": 184,
   "metadata": {},
   "outputs": [
    {
     "data": {
      "text/plain": [
       "(['Artificial Intelligence',\n",
       "  'Machine Learning',\n",
       "  'Data Science',\n",
       "  'Cybersecurity',\n",
       "  'Cloud Computing'],\n",
       " ['Computer Science',\n",
       "  'Computer Science',\n",
       "  'Computer Science',\n",
       "  'Computer Science',\n",
       "  'Computer Science'])"
      ]
     },
     "execution_count": 184,
     "metadata": {},
     "output_type": "execute_result"
    }
   ],
   "source": [
    "specialization_df[\"Name\"][:5], specialization_df[\"Study_Field\"][:5]"
   ]
  },
  {
   "cell_type": "code",
   "execution_count": 185,
   "metadata": {},
   "outputs": [
    {
     "data": {
      "text/plain": [
       "([91, 32, 42, 29, 86], [100000, 100000, 100001, 100001, 100002])"
      ]
     },
     "execution_count": 185,
     "metadata": {},
     "output_type": "execute_result"
    }
   ],
   "source": [
    "specialization_faculty_member_df[\"Specialization_ID\"][:5], specialization_faculty_member_df[\"Member_ID\"][:5]"
   ]
  },
  {
   "cell_type": "code",
   "execution_count": 186,
   "metadata": {},
   "outputs": [
    {
     "data": {
      "text/html": [
       "<div>\n",
       "<style scoped>\n",
       "    .dataframe tbody tr th:only-of-type {\n",
       "        vertical-align: middle;\n",
       "    }\n",
       "\n",
       "    .dataframe tbody tr th {\n",
       "        vertical-align: top;\n",
       "    }\n",
       "\n",
       "    .dataframe thead th {\n",
       "        text-align: right;\n",
       "    }\n",
       "</style>\n",
       "<table border=\"1\" class=\"dataframe\">\n",
       "  <thead>\n",
       "    <tr style=\"text-align: right;\">\n",
       "      <th></th>\n",
       "      <th>University_ID</th>\n",
       "      <th>First_Name</th>\n",
       "      <th>Last_Name</th>\n",
       "      <th>Email</th>\n",
       "      <th>Publications_Count</th>\n",
       "    </tr>\n",
       "  </thead>\n",
       "  <tbody>\n",
       "    <tr>\n",
       "      <th>0</th>\n",
       "      <td>100000</td>\n",
       "      <td>Brandon</td>\n",
       "      <td>Wright</td>\n",
       "      <td>BWs100000@uni.edu.pl</td>\n",
       "      <td>11</td>\n",
       "    </tr>\n",
       "    <tr>\n",
       "      <th>1</th>\n",
       "      <td>100001</td>\n",
       "      <td>Michael</td>\n",
       "      <td>Brooks</td>\n",
       "      <td>MBs100001@uni.edu.pl</td>\n",
       "      <td>6</td>\n",
       "    </tr>\n",
       "    <tr>\n",
       "      <th>2</th>\n",
       "      <td>100002</td>\n",
       "      <td>Claire</td>\n",
       "      <td>Graham</td>\n",
       "      <td>CGs100002@uni.edu.pl</td>\n",
       "      <td>12</td>\n",
       "    </tr>\n",
       "    <tr>\n",
       "      <th>3</th>\n",
       "      <td>100003</td>\n",
       "      <td>Daniel</td>\n",
       "      <td>Brown</td>\n",
       "      <td>DBs100003@uni.edu.pl</td>\n",
       "      <td>2</td>\n",
       "    </tr>\n",
       "    <tr>\n",
       "      <th>4</th>\n",
       "      <td>100004</td>\n",
       "      <td>Alexander</td>\n",
       "      <td>Phillips</td>\n",
       "      <td>APs100004@uni.edu.pl</td>\n",
       "      <td>10</td>\n",
       "    </tr>\n",
       "    <tr>\n",
       "      <th>...</th>\n",
       "      <td>...</td>\n",
       "      <td>...</td>\n",
       "      <td>...</td>\n",
       "      <td>...</td>\n",
       "      <td>...</td>\n",
       "    </tr>\n",
       "    <tr>\n",
       "      <th>1095</th>\n",
       "      <td>101095</td>\n",
       "      <td>Evan</td>\n",
       "      <td>Fisher</td>\n",
       "      <td>prEFs101095@uni.edu.pl</td>\n",
       "      <td>23</td>\n",
       "    </tr>\n",
       "    <tr>\n",
       "      <th>1096</th>\n",
       "      <td>101096</td>\n",
       "      <td>Grace</td>\n",
       "      <td>Nelson</td>\n",
       "      <td>prGNs101096@uni.edu.pl</td>\n",
       "      <td>21</td>\n",
       "    </tr>\n",
       "    <tr>\n",
       "      <th>1097</th>\n",
       "      <td>101097</td>\n",
       "      <td>Jason</td>\n",
       "      <td>Adams</td>\n",
       "      <td>prJAs101097@uni.edu.pl</td>\n",
       "      <td>40</td>\n",
       "    </tr>\n",
       "    <tr>\n",
       "      <th>1098</th>\n",
       "      <td>101098</td>\n",
       "      <td>Andrew</td>\n",
       "      <td>Turner</td>\n",
       "      <td>prATs101098@uni.edu.pl</td>\n",
       "      <td>27</td>\n",
       "    </tr>\n",
       "    <tr>\n",
       "      <th>1099</th>\n",
       "      <td>101099</td>\n",
       "      <td>Jacob</td>\n",
       "      <td>Perez</td>\n",
       "      <td>prJPs101099@uni.edu.pl</td>\n",
       "      <td>30</td>\n",
       "    </tr>\n",
       "  </tbody>\n",
       "</table>\n",
       "<p>1100 rows × 5 columns</p>\n",
       "</div>"
      ],
      "text/plain": [
       "      University_ID First_Name Last_Name                   Email  \\\n",
       "0            100000    Brandon    Wright    BWs100000@uni.edu.pl   \n",
       "1            100001    Michael    Brooks    MBs100001@uni.edu.pl   \n",
       "2            100002     Claire    Graham    CGs100002@uni.edu.pl   \n",
       "3            100003     Daniel     Brown    DBs100003@uni.edu.pl   \n",
       "4            100004  Alexander  Phillips    APs100004@uni.edu.pl   \n",
       "...             ...        ...       ...                     ...   \n",
       "1095         101095       Evan    Fisher  prEFs101095@uni.edu.pl   \n",
       "1096         101096      Grace    Nelson  prGNs101096@uni.edu.pl   \n",
       "1097         101097      Jason     Adams  prJAs101097@uni.edu.pl   \n",
       "1098         101098     Andrew    Turner  prATs101098@uni.edu.pl   \n",
       "1099         101099      Jacob     Perez  prJPs101099@uni.edu.pl   \n",
       "\n",
       "      Publications_Count  \n",
       "0                     11  \n",
       "1                      6  \n",
       "2                     12  \n",
       "3                      2  \n",
       "4                     10  \n",
       "...                  ...  \n",
       "1095                  23  \n",
       "1096                  21  \n",
       "1097                  40  \n",
       "1098                  27  \n",
       "1099                  30  \n",
       "\n",
       "[1100 rows x 5 columns]"
      ]
     },
     "execution_count": 186,
     "metadata": {},
     "output_type": "execute_result"
    }
   ],
   "source": [
    "pd.DataFrame(faculty_member_df)"
   ]
  },
  {
   "cell_type": "code",
   "execution_count": 187,
   "metadata": {},
   "outputs": [
    {
     "data": {
      "text/html": [
       "<div>\n",
       "<style scoped>\n",
       "    .dataframe tbody tr th:only-of-type {\n",
       "        vertical-align: middle;\n",
       "    }\n",
       "\n",
       "    .dataframe tbody tr th {\n",
       "        vertical-align: top;\n",
       "    }\n",
       "\n",
       "    .dataframe thead th {\n",
       "        text-align: right;\n",
       "    }\n",
       "</style>\n",
       "<table border=\"1\" class=\"dataframe\">\n",
       "  <thead>\n",
       "    <tr style=\"text-align: right;\">\n",
       "      <th></th>\n",
       "      <th>Specialization_ID</th>\n",
       "      <th>Member_ID</th>\n",
       "    </tr>\n",
       "  </thead>\n",
       "  <tbody>\n",
       "    <tr>\n",
       "      <th>0</th>\n",
       "      <td>91</td>\n",
       "      <td>100000</td>\n",
       "    </tr>\n",
       "    <tr>\n",
       "      <th>1</th>\n",
       "      <td>32</td>\n",
       "      <td>100000</td>\n",
       "    </tr>\n",
       "    <tr>\n",
       "      <th>2</th>\n",
       "      <td>42</td>\n",
       "      <td>100001</td>\n",
       "    </tr>\n",
       "    <tr>\n",
       "      <th>3</th>\n",
       "      <td>29</td>\n",
       "      <td>100001</td>\n",
       "    </tr>\n",
       "    <tr>\n",
       "      <th>4</th>\n",
       "      <td>86</td>\n",
       "      <td>100002</td>\n",
       "    </tr>\n",
       "    <tr>\n",
       "      <th>5</th>\n",
       "      <td>102</td>\n",
       "      <td>100003</td>\n",
       "    </tr>\n",
       "    <tr>\n",
       "      <th>6</th>\n",
       "      <td>5</td>\n",
       "      <td>100004</td>\n",
       "    </tr>\n",
       "    <tr>\n",
       "      <th>7</th>\n",
       "      <td>82</td>\n",
       "      <td>100005</td>\n",
       "    </tr>\n",
       "    <tr>\n",
       "      <th>8</th>\n",
       "      <td>47</td>\n",
       "      <td>100006</td>\n",
       "    </tr>\n",
       "    <tr>\n",
       "      <th>9</th>\n",
       "      <td>34</td>\n",
       "      <td>100007</td>\n",
       "    </tr>\n",
       "  </tbody>\n",
       "</table>\n",
       "</div>"
      ],
      "text/plain": [
       "   Specialization_ID  Member_ID\n",
       "0                 91     100000\n",
       "1                 32     100000\n",
       "2                 42     100001\n",
       "3                 29     100001\n",
       "4                 86     100002\n",
       "5                102     100003\n",
       "6                  5     100004\n",
       "7                 82     100005\n",
       "8                 47     100006\n",
       "9                 34     100007"
      ]
     },
     "execution_count": 187,
     "metadata": {},
     "output_type": "execute_result"
    }
   ],
   "source": [
    "pd.DataFrame(specialization_faculty_member_df).head(10)"
   ]
  },
  {
   "cell_type": "code",
   "execution_count": 188,
   "metadata": {},
   "outputs": [
    {
     "data": {
      "text/html": [
       "<div>\n",
       "<style scoped>\n",
       "    .dataframe tbody tr th:only-of-type {\n",
       "        vertical-align: middle;\n",
       "    }\n",
       "\n",
       "    .dataframe tbody tr th {\n",
       "        vertical-align: top;\n",
       "    }\n",
       "\n",
       "    .dataframe thead th {\n",
       "        text-align: right;\n",
       "    }\n",
       "</style>\n",
       "<table border=\"1\" class=\"dataframe\">\n",
       "  <thead>\n",
       "    <tr style=\"text-align: right;\">\n",
       "      <th></th>\n",
       "      <th>ID</th>\n",
       "      <th>Name</th>\n",
       "      <th>Study_Field</th>\n",
       "    </tr>\n",
       "  </thead>\n",
       "  <tbody>\n",
       "    <tr>\n",
       "      <th>0</th>\n",
       "      <td>1</td>\n",
       "      <td>Artificial Intelligence</td>\n",
       "      <td>Computer Science</td>\n",
       "    </tr>\n",
       "    <tr>\n",
       "      <th>1</th>\n",
       "      <td>2</td>\n",
       "      <td>Machine Learning</td>\n",
       "      <td>Computer Science</td>\n",
       "    </tr>\n",
       "    <tr>\n",
       "      <th>2</th>\n",
       "      <td>3</td>\n",
       "      <td>Data Science</td>\n",
       "      <td>Computer Science</td>\n",
       "    </tr>\n",
       "    <tr>\n",
       "      <th>3</th>\n",
       "      <td>4</td>\n",
       "      <td>Cybersecurity</td>\n",
       "      <td>Computer Science</td>\n",
       "    </tr>\n",
       "    <tr>\n",
       "      <th>4</th>\n",
       "      <td>5</td>\n",
       "      <td>Cloud Computing</td>\n",
       "      <td>Computer Science</td>\n",
       "    </tr>\n",
       "  </tbody>\n",
       "</table>\n",
       "</div>"
      ],
      "text/plain": [
       "   ID                     Name       Study_Field\n",
       "0   1  Artificial Intelligence  Computer Science\n",
       "1   2         Machine Learning  Computer Science\n",
       "2   3             Data Science  Computer Science\n",
       "3   4            Cybersecurity  Computer Science\n",
       "4   5          Cloud Computing  Computer Science"
      ]
     },
     "execution_count": 188,
     "metadata": {},
     "output_type": "execute_result"
    }
   ],
   "source": [
    "pd.DataFrame(specialization_df).head()"
   ]
  },
  {
   "cell_type": "code",
   "execution_count": 189,
   "metadata": {},
   "outputs": [],
   "source": [
    "pd.DataFrame(specialization_df).to_csv(\"C:/Users/User/Desktop/specialization.csv\", header=False, index=False)"
   ]
  },
  {
   "cell_type": "code",
   "execution_count": null,
   "metadata": {},
   "outputs": [],
   "source": []
  },
  {
   "cell_type": "code",
   "execution_count": null,
   "metadata": {},
   "outputs": [],
   "source": []
  }
 ],
 "metadata": {
  "kernelspec": {
   "display_name": "Python 3",
   "language": "python",
   "name": "python3"
  },
  "language_info": {
   "codemirror_mode": {
    "name": "ipython",
    "version": 3
   },
   "file_extension": ".py",
   "mimetype": "text/x-python",
   "name": "python",
   "nbconvert_exporter": "python",
   "pygments_lexer": "ipython3",
   "version": "3.9.2"
  },
  "orig_nbformat": 4
 },
 "nbformat": 4,
 "nbformat_minor": 2
}
