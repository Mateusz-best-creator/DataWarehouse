{
 "cells": [
  {
   "cell_type": "markdown",
   "metadata": {},
   "source": [
    "# Data for SQL part"
   ]
  },
  {
   "cell_type": "code",
   "execution_count": 10,
   "metadata": {},
   "outputs": [],
   "source": [
    "departments = [\n",
    "    \"Computer Science\", \"Mechanical Engineering\", \"Electrical Engineering\", \"Civil Engineering\",\n",
    "    \"Mathematics\", \"Physics\", \"Chemistry\", \"Biology\", \"Business Administration\",\n",
    "    \"Economics\", \"Psychology\", \"Sociology\", \"Political Science\", \"History\",\n",
    "    \"Philosophy\", \"English Literature\", \"Linguistics\", \"Environmental Science\",\n",
    "    \"Medicine\", \"Law\", \"Architecture\", \"Art  Design\", \"Music\", \"Theater Arts\",\n",
    "    \"Education\", \"Nursing\", \"Astronomy\", \"Anthropology\", \"Statistics\", \"Robotics\"\n",
    "]\n",
    "\n",
    "department_IDs = [\n",
    "    101, 102, 103, 104, 105, 106, 107, 108, 109, 110,\n",
    "    111, 112, 113, 114, 115, 116, 117, 118, 119, 120,\n",
    "    121, 122, 123, 124, 125, 126, 127, 128, 129, 130\n",
    "]\n",
    "\n",
    "department_Locations = [\n",
    "    (37.7749, -122.4194), (40.7128, -74.0060), (34.0522, -118.2437), (51.5074, -0.1278),\n",
    "    (48.8566, 2.3522), (35.6895, 139.6917), (55.7558, 37.6173), (39.9042, 116.4074),\n",
    "    (41.8781, -87.6298), (45.4642, 9.1900), (52.5200, 13.4050), (50.8503, 4.3517),\n",
    "    (40.4168, -3.7038), (19.4326, -99.1332), (28.6139, 77.2090), (1.3521, 103.8198),\n",
    "    (-33.8688, 151.2093), (-23.5505, -46.6333), (13.7563, 100.5018), (-34.6037, -58.3816),\n",
    "    (31.2304, 121.4737), (37.5665, 126.9780), (25.276987, 55.296249), (59.3293, 18.0686),\n",
    "    (55.9533, -3.1883), (60.1695, 24.9354), (52.2298, 21.0122), (41.9028, 12.4964),\n",
    "    (35.6895, 139.6917), (32.7767, -96.7970)\n",
    "]\n",
    "\n",
    "first_names = [\n",
    "    \"Aaron\", \"Abigail\", \"Adam\", \"Aiden\", \"Alexander\", \"Alice\", \"Amelia\", \"Andrew\", \"Angelina\", \"Anthony\",\n",
    "    \"Aria\", \"Asher\", \"Aubrey\", \"Aurora\", \"Austin\", \"Ava\", \"Benjamin\", \"Blake\", \"Brandon\", \"Brianna\",\n",
    "    \"Caleb\", \"Cameron\", \"Caroline\", \"Carter\", \"Charles\", \"Charlotte\", \"Chloe\", \"Christopher\", \"Claire\", \"Connor\",\n",
    "    \"Daniel\", \"David\", \"Delilah\", \"Dominic\", \"Dylan\", \"Eleanor\", \"Eli\", \"Elijah\", \"Elizabeth\", \"Ella\",\n",
    "    \"Emily\", \"Emma\", \"Ethan\", \"Evan\", \"Ezekiel\", \"Ezra\", \"Felix\", \"Gabriel\", \"Genesis\", \"George\",\n",
    "    \"Grace\", \"Grayson\", \"Hannah\", \"Harper\", \"Hazel\", \"Henry\", \"Hudson\", \"Hunter\", \"Ian\", \"Isaac\",\n",
    "    \"Isabella\", \"Isla\", \"Jack\", \"Jackson\", \"Jacob\", \"James\", \"Jasmine\", \"Jason\", \"Jayden\", \"Jeremiah\",\n",
    "    \"John\", \"Jonathan\", \"Jordan\", \"Joseph\", \"Joshua\", \"Julian\", \"Katherine\", \"Kayla\", \"Kennedy\", \"Kevin\",\n",
    "    \"Landon\", \"Layla\", \"Leo\", \"Levi\", \"Liam\", \"Lillian\", \"Lily\", \"Lincoln\", \"Lucas\", \"Luke\",\n",
    "    \"Madeline\", \"Madison\", \"Mason\", \"Matthew\", \"Maya\", \"Michael\", \"Mila\", \"Nathan\", \"Noah\", \"Nora\"\n",
    "]\n",
    "\n",
    "surnames = [\n",
    "    \"Adams\", \"Allen\", \"Anderson\", \"Armstrong\", \"Bailey\", \"Baker\", \"Barnes\", \"Bell\", \"Bennett\", \"Brooks\",\n",
    "    \"Brown\", \"Bryant\", \"Butler\", \"Campbell\", \"Carter\", \"Clark\", \"Collins\", \"Cook\", \"Cooper\", \"Cox\",\n",
    "    \"Davis\", \"Diaz\", \"Edwards\", \"Evans\", \"Fisher\", \"Flores\", \"Foster\", \"Garcia\", \"Gonzalez\", \"Graham\",\n",
    "    \"Green\", \"Hall\", \"Harris\", \"Harrison\", \"Hayes\", \"Henderson\", \"Hernandez\", \"Hill\", \"Howard\", \"Hughes\",\n",
    "    \"Jackson\", \"James\", \"Jenkins\", \"Johnson\", \"Jones\", \"Kelly\", \"King\", \"Lee\", \"Lewis\", \"Long\",\n",
    "    \"Lopez\", \"Martin\", \"Martinez\", \"Miller\", \"Mitchell\", \"Moore\", \"Morales\", \"Morgan\", \"Morris\", \"Murphy\",\n",
    "    \"Nelson\", \"Nguyen\", \"Parker\", \"Patterson\", \"Perez\", \"Phillips\", \"Powell\", \"Price\", \"Ramirez\", \"Reed\",\n",
    "    \"Richardson\", \"Rivera\", \"Roberts\", \"Robinson\", \"Rodriguez\", \"Rogers\", \"Ross\", \"Russell\", \"Sanchez\", \"Sanders\",\n",
    "    \"Scott\", \"Simmons\", \"Smith\", \"Stewart\", \"Sullivan\", \"Taylor\", \"Thomas\", \"Thompson\", \"Torres\", \"Turner\",\n",
    "    \"Walker\", \"Ward\", \"Washington\", \"Watson\", \"White\", \"Williams\", \"Wilson\", \"Wood\", \"Wright\", \"Young\"\n",
    "]\n",
    "\n",
    "specializations = [\n",
    "    \"Artificial Intelligence\", \"Machine Learning\", \"Data Science\", \"Cybersecurity\", \"Cloud Computing\",\n",
    "    \"Software Engineering\", \"Computer Networks\", \"HumanComputer Interaction\", \"Blockchain Technology\", \"Game Development\",\n",
    "    \"Embedded Systems\", \"Internet of Things (IoT)\", \"Bioinformatics\", \"Quantum Computing\", \"Robotics\",\n",
    "    \"Automotive Engineering\", \"Aeronautical Engineering\", \"Renewable Energy Engineering\", \"Nanotechnology\", \"Materials Science\",\n",
    "    \"Structural Engineering\", \"Geotechnical Engineering\", \"Environmental Engineering\", \"Hydraulic Engineering\", \"Transportation Engineering\",\n",
    "    \"Wireless Communication\", \"Microelectronics\", \"Power Systems Engineering\", \"Signal Processing\", \"Control Systems\",\n",
    "    \"Theoretical Physics\", \"Nuclear Physics\", \"Astrophysics\", \"Biophysics\", \"Condensed Matter Physics\",\n",
    "    \"Organic Chemistry\", \"Inorganic Chemistry\", \"Analytical Chemistry\", \"Physical Chemistry\", \"Pharmaceutical Chemistry\",\n",
    "    \"Molecular Biology\", \"Genetics\", \"Biotechnology\", \"Neuroscience\", \"Microbiology\",\n",
    "    \"Marine Biology\", \"Ecology\", \"Zoology\", \"Botany\", \"Bioengineering\",\n",
    "    \"Finance\", \"Accounting\", \"Marketing\", \"International Business\", \"Entrepreneurship\",\n",
    "    \"Human Resource Management\", \"Supply Chain Management\", \"Econometrics\", \"Behavioral Economics\", \"Game Theory\",\n",
    "    \"Clinical Psychology\", \"Cognitive Psychology\", \"Educational Psychology\", \"Industrial Psychology\", \"Forensic Psychology\",\n",
    "    \"Sociology of Technology\", \"Criminology\", \"Urban Sociology\", \"Cultural Anthropology\", \"Archaeology\",\n",
    "    \"Political Philosophy\", \"Public Policy\", \"International Relations\", \"Comparative Politics\", \"Diplomacy\",\n",
    "    \"Medieval History\", \"Modern History\", \"World History\", \"Military History\", \"History of Science\",\n",
    "    \"Ethics\", \"Epistemology\", \"Metaphysics\", \"Logic\", \"Aesthetics\",\n",
    "    \"Linguistics\", \"Syntax and Semantics\", \"Applied Linguistics\", \"Translation Studies\", \"Computational Linguistics\",\n",
    "    \"Environmental Science\", \"Climatology\", \"Geospatial Science\", \"Sustainable Development\", \"Conservation Biology\",\n",
    "    \"Theater and Performing Arts\", \"Music Composition\", \"Fine Arts\", \"Photography\", \"Creative Writing\",\n",
    "    \"Education Policy\", \"Special Education\", \"Curriculum Development\", \"Instructional Design\", \"Educational Technology\"\n",
    "]\n",
    "\n",
    "study_fields = [\n",
    "    \"Computer Science\", \"Computer Science\", \"Computer Science\", \"Computer Science\", \"Computer Science\",\n",
    "    \"Computer Science\", \"Computer Science\", \"Computer Science\", \"Computer Science\", \"Computer Science\",\n",
    "    \"Computer Science\", \"Computer Science\", \"Biotechnology\", \"Computer Science\", \"Robotics\",\n",
    "    \"Mechanical Engineering\", \"Aeronautical Engineering\", \"Energy Engineering\", \"Nanotechnology\", \"Materials Science\",\n",
    "    \"Civil Engineering\", \"Civil Engineering\", \"Environmental Engineering\", \"Civil Engineering\", \"Civil Engineering\",\n",
    "    \"Electrical Engineering\", \"Electrical Engineering\", \"Electrical Engineering\", \"Electrical Engineering\", \"Electrical Engineering\",\n",
    "    \"Physics\", \"Physics\", \"Physics\", \"Physics\", \"Physics\",\n",
    "    \"Chemistry\", \"Chemistry\", \"Chemistry\", \"Chemistry\", \"Chemistry\",\n",
    "    \"Biology\", \"Biology\", \"Biology\", \"Biology\", \"Biology\",\n",
    "    \"Biology\", \"Biology\", \"Biology\", \"Biology\", \"Biomedical Engineering\",\n",
    "    \"Business\", \"Business\", \"Business\", \"Business\", \"Business\",\n",
    "    \"Business\", \"Business\", \"Economics\", \"Economics\", \"Economics\",\n",
    "    \"Psychology\", \"Psychology\", \"Psychology\", \"Psychology\", \"Psychology\",\n",
    "    \"Sociology\", \"Sociology\", \"Sociology\", \"Anthropology\", \"Anthropology\",\n",
    "    \"Philosophy\", \"Political Science\", \"Political Science\", \"Political Science\", \"Political Science\",\n",
    "    \"History\", \"History\", \"History\", \"History\", \"History\",\n",
    "    \"Philosophy\", \"Philosophy\", \"Philosophy\", \"Philosophy\", \"Philosophy\",\n",
    "    \"Linguistics\", \"Linguistics\", \"Linguistics\", \"Linguistics\", \"Linguistics\",\n",
    "    \"Environmental Science\", \"Environmental Science\", \"Geography\", \"Environmental Science\", \"Environmental Science\",\n",
    "    \"Fine Arts\", \"Music\", \"Fine Arts\", \"Fine Arts\", \"Fine Arts\",\n",
    "    \"Education\", \"Education\", \"Education\", \"Education\", \"Education\"\n",
    "]\n",
    "\n",
    "specializations_ID = range(1, len(specializations) + 1)\n"
   ]
  },
  {
   "cell_type": "code",
   "execution_count": 11,
   "metadata": {},
   "outputs": [
    {
     "data": {
      "text/plain": [
       "(range(1, 106), 105)"
      ]
     },
     "execution_count": 11,
     "metadata": {},
     "output_type": "execute_result"
    }
   ],
   "source": [
    "specializations_ID, len(specializations_ID)"
   ]
  },
  {
   "cell_type": "code",
   "execution_count": 12,
   "metadata": {},
   "outputs": [
    {
     "data": {
      "text/plain": [
       "datetime.date(2004, 11, 20)"
      ]
     },
     "execution_count": 12,
     "metadata": {},
     "output_type": "execute_result"
    }
   ],
   "source": [
    "from faker import Faker\n",
    "\n",
    "def generate_random_date():\n",
    "    fake = Faker()\n",
    "    # year, month, day\n",
    "    return fake.date_between(start_date='-30y', end_date='today')\n",
    "\n",
    "generate_random_date()"
   ]
  },
  {
   "cell_type": "code",
   "execution_count": 13,
   "metadata": {},
   "outputs": [],
   "source": [
    "num_of_student_members = int(input(\"Give the number of student members to generate: \"))\n",
    "num_of_prefessors_members = int(input(\"Give the number of professor members to generate: \"))"
   ]
  },
  {
   "cell_type": "code",
   "execution_count": 14,
   "metadata": {},
   "outputs": [],
   "source": [
    "import pandas as pd\n",
    "import numpy as np\n",
    "\n",
    "University_ID = 100_000\n",
    "\n",
    "student_df = {\n",
    "    \"University_ID\": [],\n",
    "    \"Enrollment_Year\": []\n",
    "}\n",
    "\n",
    "professor_df = {\n",
    "    \"University_ID\": [],\n",
    "    \"EmploymentStartDate\": [],\n",
    "    \"Degree\": []\n",
    "}\n",
    "\n",
    "faculty_member_df = {\n",
    "    \"University_ID\": [],\n",
    "    \"First_Name\": [],\n",
    "    \"Last_Name\": [],\n",
    "    \"Email\": [],\n",
    "    \"Publications_Count\": []\n",
    "}\n",
    "\n",
    "for i in range(num_of_student_members):\n",
    "    \n",
    "    name = first_names[np.random.randint(0, len(first_names) - 1)]\n",
    "    surname = surnames[np.random.randint(0, len(surnames) - 1)]\n",
    "    id = University_ID\n",
    "    enrollment_year = np.random.randint(2014, 2025)\n",
    "    email = f\"{name[0]}{surname[0]}s{id}@uni.edu.pl\"\n",
    "    pub_count = np.random.randint(0, 20)\n",
    "\n",
    "    student_df[\"University_ID\"].append(id)\n",
    "    student_df[\"Enrollment_Year\"].append(enrollment_year)\n",
    "\n",
    "    faculty_member_df[\"University_ID\"].append(id)\n",
    "    faculty_member_df[\"First_Name\"].append(name)\n",
    "    faculty_member_df[\"Last_Name\"].append(surname)\n",
    "    faculty_member_df[\"Email\"].append(email)\n",
    "    faculty_member_df[\"Publications_Count\"].append(pub_count)\n",
    "    \n",
    "    University_ID += 1\n",
    "\n",
    "for i in range(num_of_prefessors_members):\n",
    "    \n",
    "    name = first_names[np.random.randint(0, len(first_names) - 1)]\n",
    "    surname = surnames[np.random.randint(0, len(surnames) - 1)]\n",
    "    id = University_ID\n",
    "    employment_start_date = generate_random_date()\n",
    "    email = f\"pr{name[0]}{surname[0]}s{id}@uni.edu.pl\"\n",
    "    pub_count = np.random.randint(20, 50)\n",
    "    Degree = np.random.choice([\"Engineer\", \"Master\", \"Professor1\", \"Professor2\"])\n",
    "\n",
    "    professor_df[\"University_ID\"].append(id)\n",
    "    professor_df[\"EmploymentStartDate\"].append(employment_start_date)\n",
    "    professor_df[\"Degree\"].append(Degree)\n",
    "\n",
    "    faculty_member_df[\"University_ID\"].append(id)\n",
    "    faculty_member_df[\"First_Name\"].append(name)\n",
    "    faculty_member_df[\"Last_Name\"].append(surname)\n",
    "    faculty_member_df[\"Email\"].append(email)\n",
    "    faculty_member_df[\"Publications_Count\"].append(pub_count)\n",
    "\n",
    "    University_ID += 1\n"
   ]
  },
  {
   "cell_type": "code",
   "execution_count": 15,
   "metadata": {},
   "outputs": [
    {
     "data": {
      "text/plain": [
       "dict_keys(['University_ID', 'First_Name', 'Last_Name', 'Email', 'Publications_Count'])"
      ]
     },
     "execution_count": 15,
     "metadata": {},
     "output_type": "execute_result"
    }
   ],
   "source": [
    "faculty_member_df.keys()"
   ]
  },
  {
   "cell_type": "code",
   "execution_count": 16,
   "metadata": {},
   "outputs": [],
   "source": [
    "Department_df = {\n",
    "    \"Department_ID\": [],\n",
    "    \"Department_Name\": [],\n",
    "    \"Location\": []\n",
    "}\n",
    "\n",
    "student_department_df = {\n",
    "    \"Student_ID\": [],\n",
    "    \"Department_ID\": [],\n",
    "}\n",
    "\n",
    "professor_department_df = {\n",
    "    \"Professor_ID\": [],\n",
    "    \"Department_ID\": [],\n",
    "}\n",
    "\n",
    "\n",
    "for i in range(len(departments)):\n",
    "\n",
    "    Department_df[\"Department_ID\"].append(department_IDs[i])\n",
    "    Department_df[\"Department_Name\"].append(departments[i])\n",
    "    Department_df[\"Location\"].append(str(department_Locations[i][0]) + str(department_Locations[i][1]))\n",
    "    \n",
    "for i in range(len(student_df[\"University_ID\"])):\n",
    "\n",
    "    id = student_df[\"University_ID\"][i]\n",
    "    departments_temp = [None]\n",
    "\n",
    "    random_num = np.random.randint(1, 100)\n",
    "    faculties = 1\n",
    "    if random_num <= 40:\n",
    "        faculties = 2\n",
    "    if random_num <= 5:\n",
    "        faculties = 3\n",
    "\n",
    "    for j in range(faculties):\n",
    "        \n",
    "        department_id = None\n",
    "        while department_id in departments_temp:\n",
    "            department_id = np.random.choice(Department_df[\"Department_ID\"])\n",
    "        departments_temp.append(department_id)\n",
    "\n",
    "        student_department_df[\"Student_ID\"].append(id)\n",
    "        student_department_df[\"Department_ID\"].append(department_id)\n",
    "\n",
    "for i in range(len(professor_df[\"University_ID\"])):\n",
    "\n",
    "    id = professor_df[\"University_ID\"][i]\n",
    "    departments_temp = [None]\n",
    "    for j in range(np.random.randint(1, 5)):\n",
    "        \n",
    "        department_id = None\n",
    "        while department_id in departments_temp:\n",
    "            department_id = np.random.choice(Department_df[\"Department_ID\"])\n",
    "        departments_temp.append(department_id)\n",
    "\n",
    "        professor_department_df[\"Professor_ID\"].append(id)\n",
    "        professor_department_df[\"Department_ID\"].append(department_id)"
   ]
  },
  {
   "cell_type": "code",
   "execution_count": 17,
   "metadata": {},
   "outputs": [
    {
     "data": {
      "text/plain": [
       "[101000,\n",
       " 101000,\n",
       " 101000,\n",
       " 101001,\n",
       " 101001,\n",
       " 101001,\n",
       " 101002,\n",
       " 101003,\n",
       " 101003,\n",
       " 101003]"
      ]
     },
     "execution_count": 17,
     "metadata": {},
     "output_type": "execute_result"
    }
   ],
   "source": [
    "professor_department_df[\"Professor_ID\"][:10]"
   ]
  },
  {
   "cell_type": "code",
   "execution_count": 18,
   "metadata": {},
   "outputs": [
    {
     "data": {
      "text/plain": [
       "[101, 111, 123, 108, 107]"
      ]
     },
     "execution_count": 18,
     "metadata": {},
     "output_type": "execute_result"
    }
   ],
   "source": [
    "professor_department_df[\"Department_ID\"][:5]"
   ]
  },
  {
   "cell_type": "code",
   "execution_count": 19,
   "metadata": {},
   "outputs": [],
   "source": [
    "specialization_df = {\n",
    "    \"ID\": [],\n",
    "    \"Name\": [],\n",
    "    \"Study_Field\": []\n",
    "}\n",
    "\n",
    "specialization_faculty_member_df = {\n",
    "    \"Specialization_ID\": [],\n",
    "    \"Member_ID\": []\n",
    "}\n",
    "\n",
    "\n",
    "for i in range(len(specializations)):\n",
    "    \n",
    "    id = specializations_ID[i]\n",
    "    name = specializations[i]\n",
    "    study_field = study_fields[i]\n",
    "\n",
    "    specialization_df[\"ID\"].append(id)\n",
    "    specialization_df[\"Name\"].append(name)\n",
    "    specialization_df[\"Study_Field\"].append(study_field)\n",
    "\n",
    "for i in range(len(faculty_member_df[\"University_ID\"])):\n",
    "\n",
    "    times = None\n",
    "    if faculty_member_df[\"Email\"][:2] == \"pr\":\n",
    "        times = np.random.randint(2, 6)\n",
    "    else:\n",
    "        times = np.random.randint(1, 3)\n",
    "\n",
    "    chosen_spec = [None]\n",
    "\n",
    "    for j in range(times):\n",
    "\n",
    "        id = faculty_member_df[\"University_ID\"][i]\n",
    "        spec_id = None\n",
    "        while spec_id in chosen_spec:\n",
    "            spec_id = np.random.choice(specializations_ID)\n",
    "        chosen_spec.append(spec_id)\n",
    "\n",
    "        specialization_faculty_member_df[\"Specialization_ID\"].append(spec_id)\n",
    "        specialization_faculty_member_df[\"Member_ID\"].append(id)"
   ]
  },
  {
   "cell_type": "code",
   "execution_count": 20,
   "metadata": {},
   "outputs": [
    {
     "data": {
      "text/plain": [
       "(105, 105)"
      ]
     },
     "execution_count": 20,
     "metadata": {},
     "output_type": "execute_result"
    }
   ],
   "source": [
    "len(study_fields), len(specializations)"
   ]
  },
  {
   "cell_type": "code",
   "execution_count": 21,
   "metadata": {},
   "outputs": [
    {
     "data": {
      "text/plain": [
       "(['Artificial Intelligence',\n",
       "  'Machine Learning',\n",
       "  'Data Science',\n",
       "  'Cybersecurity',\n",
       "  'Cloud Computing'],\n",
       " ['Computer Science',\n",
       "  'Computer Science',\n",
       "  'Computer Science',\n",
       "  'Computer Science',\n",
       "  'Computer Science'])"
      ]
     },
     "execution_count": 21,
     "metadata": {},
     "output_type": "execute_result"
    }
   ],
   "source": [
    "specialization_df[\"Name\"][:5], specialization_df[\"Study_Field\"][:5]"
   ]
  },
  {
   "cell_type": "code",
   "execution_count": 22,
   "metadata": {},
   "outputs": [
    {
     "data": {
      "text/plain": [
       "([47, 9, 55, 61, 8], [100000, 100000, 100001, 100002, 100003])"
      ]
     },
     "execution_count": 22,
     "metadata": {},
     "output_type": "execute_result"
    }
   ],
   "source": [
    "specialization_faculty_member_df[\"Specialization_ID\"][:5], specialization_faculty_member_df[\"Member_ID\"][:5]"
   ]
  },
  {
   "cell_type": "code",
   "execution_count": 23,
   "metadata": {},
   "outputs": [
    {
     "data": {
      "text/html": [
       "<div>\n",
       "<style scoped>\n",
       "    .dataframe tbody tr th:only-of-type {\n",
       "        vertical-align: middle;\n",
       "    }\n",
       "\n",
       "    .dataframe tbody tr th {\n",
       "        vertical-align: top;\n",
       "    }\n",
       "\n",
       "    .dataframe thead th {\n",
       "        text-align: right;\n",
       "    }\n",
       "</style>\n",
       "<table border=\"1\" class=\"dataframe\">\n",
       "  <thead>\n",
       "    <tr style=\"text-align: right;\">\n",
       "      <th></th>\n",
       "      <th>University_ID</th>\n",
       "      <th>First_Name</th>\n",
       "      <th>Last_Name</th>\n",
       "      <th>Email</th>\n",
       "      <th>Publications_Count</th>\n",
       "    </tr>\n",
       "  </thead>\n",
       "  <tbody>\n",
       "    <tr>\n",
       "      <th>0</th>\n",
       "      <td>100000</td>\n",
       "      <td>Jeremiah</td>\n",
       "      <td>Thompson</td>\n",
       "      <td>JTs100000@uni.edu.pl</td>\n",
       "      <td>0</td>\n",
       "    </tr>\n",
       "    <tr>\n",
       "      <th>1</th>\n",
       "      <td>100001</td>\n",
       "      <td>Aaron</td>\n",
       "      <td>Butler</td>\n",
       "      <td>ABs100001@uni.edu.pl</td>\n",
       "      <td>11</td>\n",
       "    </tr>\n",
       "    <tr>\n",
       "      <th>2</th>\n",
       "      <td>100002</td>\n",
       "      <td>Madison</td>\n",
       "      <td>Collins</td>\n",
       "      <td>MCs100002@uni.edu.pl</td>\n",
       "      <td>11</td>\n",
       "    </tr>\n",
       "    <tr>\n",
       "      <th>3</th>\n",
       "      <td>100003</td>\n",
       "      <td>Genesis</td>\n",
       "      <td>Brown</td>\n",
       "      <td>GBs100003@uni.edu.pl</td>\n",
       "      <td>11</td>\n",
       "    </tr>\n",
       "    <tr>\n",
       "      <th>4</th>\n",
       "      <td>100004</td>\n",
       "      <td>Abigail</td>\n",
       "      <td>Johnson</td>\n",
       "      <td>AJs100004@uni.edu.pl</td>\n",
       "      <td>9</td>\n",
       "    </tr>\n",
       "    <tr>\n",
       "      <th>...</th>\n",
       "      <td>...</td>\n",
       "      <td>...</td>\n",
       "      <td>...</td>\n",
       "      <td>...</td>\n",
       "      <td>...</td>\n",
       "    </tr>\n",
       "    <tr>\n",
       "      <th>1245</th>\n",
       "      <td>101245</td>\n",
       "      <td>Kevin</td>\n",
       "      <td>Watson</td>\n",
       "      <td>prKWs101245@uni.edu.pl</td>\n",
       "      <td>48</td>\n",
       "    </tr>\n",
       "    <tr>\n",
       "      <th>1246</th>\n",
       "      <td>101246</td>\n",
       "      <td>Chloe</td>\n",
       "      <td>Graham</td>\n",
       "      <td>prCGs101246@uni.edu.pl</td>\n",
       "      <td>49</td>\n",
       "    </tr>\n",
       "    <tr>\n",
       "      <th>1247</th>\n",
       "      <td>101247</td>\n",
       "      <td>Isabella</td>\n",
       "      <td>Cox</td>\n",
       "      <td>prICs101247@uni.edu.pl</td>\n",
       "      <td>32</td>\n",
       "    </tr>\n",
       "    <tr>\n",
       "      <th>1248</th>\n",
       "      <td>101248</td>\n",
       "      <td>John</td>\n",
       "      <td>Jones</td>\n",
       "      <td>prJJs101248@uni.edu.pl</td>\n",
       "      <td>41</td>\n",
       "    </tr>\n",
       "    <tr>\n",
       "      <th>1249</th>\n",
       "      <td>101249</td>\n",
       "      <td>Katherine</td>\n",
       "      <td>Thompson</td>\n",
       "      <td>prKTs101249@uni.edu.pl</td>\n",
       "      <td>36</td>\n",
       "    </tr>\n",
       "  </tbody>\n",
       "</table>\n",
       "<p>1250 rows × 5 columns</p>\n",
       "</div>"
      ],
      "text/plain": [
       "      University_ID First_Name Last_Name                   Email  \\\n",
       "0            100000   Jeremiah  Thompson    JTs100000@uni.edu.pl   \n",
       "1            100001      Aaron    Butler    ABs100001@uni.edu.pl   \n",
       "2            100002    Madison   Collins    MCs100002@uni.edu.pl   \n",
       "3            100003    Genesis     Brown    GBs100003@uni.edu.pl   \n",
       "4            100004    Abigail   Johnson    AJs100004@uni.edu.pl   \n",
       "...             ...        ...       ...                     ...   \n",
       "1245         101245      Kevin    Watson  prKWs101245@uni.edu.pl   \n",
       "1246         101246      Chloe    Graham  prCGs101246@uni.edu.pl   \n",
       "1247         101247   Isabella       Cox  prICs101247@uni.edu.pl   \n",
       "1248         101248       John     Jones  prJJs101248@uni.edu.pl   \n",
       "1249         101249  Katherine  Thompson  prKTs101249@uni.edu.pl   \n",
       "\n",
       "      Publications_Count  \n",
       "0                      0  \n",
       "1                     11  \n",
       "2                     11  \n",
       "3                     11  \n",
       "4                      9  \n",
       "...                  ...  \n",
       "1245                  48  \n",
       "1246                  49  \n",
       "1247                  32  \n",
       "1248                  41  \n",
       "1249                  36  \n",
       "\n",
       "[1250 rows x 5 columns]"
      ]
     },
     "execution_count": 23,
     "metadata": {},
     "output_type": "execute_result"
    }
   ],
   "source": [
    "pd.DataFrame(faculty_member_df)"
   ]
  },
  {
   "cell_type": "code",
   "execution_count": 24,
   "metadata": {},
   "outputs": [
    {
     "data": {
      "text/html": [
       "<div>\n",
       "<style scoped>\n",
       "    .dataframe tbody tr th:only-of-type {\n",
       "        vertical-align: middle;\n",
       "    }\n",
       "\n",
       "    .dataframe tbody tr th {\n",
       "        vertical-align: top;\n",
       "    }\n",
       "\n",
       "    .dataframe thead th {\n",
       "        text-align: right;\n",
       "    }\n",
       "</style>\n",
       "<table border=\"1\" class=\"dataframe\">\n",
       "  <thead>\n",
       "    <tr style=\"text-align: right;\">\n",
       "      <th></th>\n",
       "      <th>Specialization_ID</th>\n",
       "      <th>Member_ID</th>\n",
       "    </tr>\n",
       "  </thead>\n",
       "  <tbody>\n",
       "    <tr>\n",
       "      <th>0</th>\n",
       "      <td>47</td>\n",
       "      <td>100000</td>\n",
       "    </tr>\n",
       "    <tr>\n",
       "      <th>1</th>\n",
       "      <td>9</td>\n",
       "      <td>100000</td>\n",
       "    </tr>\n",
       "    <tr>\n",
       "      <th>2</th>\n",
       "      <td>55</td>\n",
       "      <td>100001</td>\n",
       "    </tr>\n",
       "    <tr>\n",
       "      <th>3</th>\n",
       "      <td>61</td>\n",
       "      <td>100002</td>\n",
       "    </tr>\n",
       "    <tr>\n",
       "      <th>4</th>\n",
       "      <td>8</td>\n",
       "      <td>100003</td>\n",
       "    </tr>\n",
       "    <tr>\n",
       "      <th>5</th>\n",
       "      <td>18</td>\n",
       "      <td>100004</td>\n",
       "    </tr>\n",
       "    <tr>\n",
       "      <th>6</th>\n",
       "      <td>104</td>\n",
       "      <td>100005</td>\n",
       "    </tr>\n",
       "    <tr>\n",
       "      <th>7</th>\n",
       "      <td>35</td>\n",
       "      <td>100006</td>\n",
       "    </tr>\n",
       "    <tr>\n",
       "      <th>8</th>\n",
       "      <td>47</td>\n",
       "      <td>100006</td>\n",
       "    </tr>\n",
       "    <tr>\n",
       "      <th>9</th>\n",
       "      <td>81</td>\n",
       "      <td>100007</td>\n",
       "    </tr>\n",
       "  </tbody>\n",
       "</table>\n",
       "</div>"
      ],
      "text/plain": [
       "   Specialization_ID  Member_ID\n",
       "0                 47     100000\n",
       "1                  9     100000\n",
       "2                 55     100001\n",
       "3                 61     100002\n",
       "4                  8     100003\n",
       "5                 18     100004\n",
       "6                104     100005\n",
       "7                 35     100006\n",
       "8                 47     100006\n",
       "9                 81     100007"
      ]
     },
     "execution_count": 24,
     "metadata": {},
     "output_type": "execute_result"
    }
   ],
   "source": [
    "pd.DataFrame(specialization_faculty_member_df).head(10)"
   ]
  },
  {
   "cell_type": "code",
   "execution_count": 25,
   "metadata": {},
   "outputs": [
    {
     "data": {
      "text/html": [
       "<div>\n",
       "<style scoped>\n",
       "    .dataframe tbody tr th:only-of-type {\n",
       "        vertical-align: middle;\n",
       "    }\n",
       "\n",
       "    .dataframe tbody tr th {\n",
       "        vertical-align: top;\n",
       "    }\n",
       "\n",
       "    .dataframe thead th {\n",
       "        text-align: right;\n",
       "    }\n",
       "</style>\n",
       "<table border=\"1\" class=\"dataframe\">\n",
       "  <thead>\n",
       "    <tr style=\"text-align: right;\">\n",
       "      <th></th>\n",
       "      <th>ID</th>\n",
       "      <th>Name</th>\n",
       "      <th>Study_Field</th>\n",
       "    </tr>\n",
       "  </thead>\n",
       "  <tbody>\n",
       "    <tr>\n",
       "      <th>0</th>\n",
       "      <td>1</td>\n",
       "      <td>Artificial Intelligence</td>\n",
       "      <td>Computer Science</td>\n",
       "    </tr>\n",
       "    <tr>\n",
       "      <th>1</th>\n",
       "      <td>2</td>\n",
       "      <td>Machine Learning</td>\n",
       "      <td>Computer Science</td>\n",
       "    </tr>\n",
       "    <tr>\n",
       "      <th>2</th>\n",
       "      <td>3</td>\n",
       "      <td>Data Science</td>\n",
       "      <td>Computer Science</td>\n",
       "    </tr>\n",
       "    <tr>\n",
       "      <th>3</th>\n",
       "      <td>4</td>\n",
       "      <td>Cybersecurity</td>\n",
       "      <td>Computer Science</td>\n",
       "    </tr>\n",
       "    <tr>\n",
       "      <th>4</th>\n",
       "      <td>5</td>\n",
       "      <td>Cloud Computing</td>\n",
       "      <td>Computer Science</td>\n",
       "    </tr>\n",
       "  </tbody>\n",
       "</table>\n",
       "</div>"
      ],
      "text/plain": [
       "   ID                     Name       Study_Field\n",
       "0   1  Artificial Intelligence  Computer Science\n",
       "1   2         Machine Learning  Computer Science\n",
       "2   3             Data Science  Computer Science\n",
       "3   4            Cybersecurity  Computer Science\n",
       "4   5          Cloud Computing  Computer Science"
      ]
     },
     "execution_count": 25,
     "metadata": {},
     "output_type": "execute_result"
    }
   ],
   "source": [
    "pd.DataFrame(specialization_df).head()"
   ]
  },
  {
   "cell_type": "code",
   "execution_count": 26,
   "metadata": {},
   "outputs": [],
   "source": [
    "dictionaries_to_csv = [\n",
    "    specialization_faculty_member_df,\n",
    "    specialization_df,\n",
    "    Department_df,\n",
    "    student_department_df,\n",
    "    professor_department_df,\n",
    "    student_df,\n",
    "    professor_df,\n",
    "    faculty_member_df\n",
    "]\n",
    "\n",
    "names = [\n",
    "    \"specialization_faculty_member\",\n",
    "    \"specialization\",\n",
    "    \"department\",\n",
    "    \"student_department\",\n",
    "    \"professor_department\",\n",
    "    \"student\",\n",
    "    \"professor\",\n",
    "    \"faculty_member\"\n",
    "]\n",
    "\n",
    "for i, dict in enumerate(dictionaries_to_csv):\n",
    "    pd.DataFrame(dict).to_csv(f\"../GeneratedCSV/{names[i]}.csv\", header=False, index=False)"
   ]
  },
  {
   "cell_type": "markdown",
   "metadata": {},
   "source": [
    "# Data for excel part"
   ]
  },
  {
   "cell_type": "code",
   "execution_count": 46,
   "metadata": {},
   "outputs": [
    {
     "name": "stdout",
     "output_type": "stream",
     "text": [
      "Length = 181584\n"
     ]
    }
   ],
   "source": [
    "import random\n",
    "import itertools\n",
    "\n",
    "FIELDS = [\n",
    "    \"Cybersecurity\", \"Quantum Computing\", \"Healthcare AI\", \"Blockchain\", \"Aerospace Engineering\",\n",
    "    \"Biomedical Engineering\", \"Renewable Energy\", \"Climate Science\", \"Artificial Intelligence\", \"Autonomous Systems\",\n",
    "    \"Wearable Technology\", \"Pharmaceutical Research\", \"Clinical Psychology\", \"Finance\", \"Genetic Engineering\",\n",
    "    \"Green Energy\", \"Smart Grid Systems\", \"Medical Imaging\", \"Social Media Studies\", \"Cryptography\",\n",
    "    \"Environmental Science\", \"Robotic Surgery\", \"Organizational Psychology\", \"Agricultural Science\", \"Smart Cities\",\n",
    "    \"Sustainable Materials\", \"Gene Therapy\", \"Music Therapy\", \"Personalized Medicine\", \"Ethics in AI\",\n",
    "    \"Space Science\", \"Edge Computing\", \"Virtual Reality\", \"Water Purification\", \"Digital Journalism\",\n",
    "    \"Astrophysics\", \"Drone Technology\", \"Genomics\", \"Educational AI\", \"Sustainable Architecture\",\n",
    "    \"Neural Engineering\", \"Mental Health AI\", \"Urban Ecology\", \"Textile Technology\", \"Desalination\",\n",
    "    \"Precision Agriculture\", \"Nanomedicine\", \"Computational Linguistics\", \"Space Exploration\", \"Economic Policy\",\n",
    "    \"Microbiome Research\", \"Energy Storage\", \"Forensic Science\", \"Cryptocurrency\", \"Assistive Technology\",\n",
    "    \"Adolescent Psychology\", \"Waste Management\", \"Gamification in Learning\", \"IoT Security\", \"Bioengineering\",\n",
    "    \"Legal AI\", \"Marine Science\", \"Wireless Technology\", \"Sign Language Processing\", \"Remote Surgery\",\n",
    "    \"PTSD Therapy\", \"Robotic Engineering\", \"Urban Transportation\", \"Telemedicine\", \"Smart Living\",\n",
    "    \"Quantum Security\", \"Organ Regeneration\", \"Agricultural AI\", \"Nutritional Science\", \"Astrobiology\",\n",
    "    \"AI in Surveillance\", \"Brain-Computer Interfaces\", \"Cyberbullying Prevention\", \"Labor Market Trends\",\n",
    "    \"Electric Vehicles\", \"Cloud Computing\", \"Bioprinting\", \"Sleep Science\", \"Infectious Disease Research\",\n",
    "    \"Education Technology\", \"Supply Chain Optimization\", \"Climate Migration\", \"Deepfake Detection\",\n",
    "    \"5G Technology\", \"Sustainable Fashion\", \"Assistive Robotics\", \"Infrastructure Resilience\", \"Adaptive Learning\",\n",
    "    \"Creative AI\", \"Biometric Security\", \"Neuroscience\", \"Customer Service AI\"\n",
    "]\n",
    "\n",
    "ADJECTIVES = [\"Next-Gen\", \"Efficient\", \"Scalable\", \"Advanced\", \"Innovative\", \"Sustainable\", \n",
    "              \"Autonomous\", \"Smart\", \"Optimized\", \"Adaptive\", \"Hybrid\", \"AI-powered\", \"Neural-based\"]\n",
    "\n",
    "NOUNS = [\"Framework\", \"Model\", \"Algorithm\", \"Approach\", \"System\", \"Platform\", \"Methodology\",\n",
    "         \"Architecture\", \"Protocol\", \"Network\", \"Infrastructure\", \"Pipeline\"]\n",
    "\n",
    "FOCUS_AREAS = [\"Optimization\", \"Prediction\", \"Analysis\", \"Simulation\", \"Detection\", \"Enhancement\", \n",
    "               \"Generation\", \"Recognition\", \"Classification\", \"Automation\", \"Segmentation\", \"Forecasting\"]\n",
    "\n",
    "ALL_TITLES = list(itertools.product(ADJECTIVES, NOUNS, FOCUS_AREAS, FIELDS))\n",
    "print(f\"Length = {len(ALL_TITLES)}\")\n",
    "random.shuffle(ALL_TITLES)\n",
    "TITLE_ITERATOR = iter(ALL_TITLES)\n",
    "\n",
    "def generate_title():\n",
    "    try:\n",
    "        adj, noun, focus, field = next(TITLE_ITERATOR)\n",
    "        # returns title, field\n",
    "        return f\"{adj} {noun} for {focus} in {field}\", field\n",
    "    except StopIteration:\n",
    "        return None"
   ]
  },
  {
   "cell_type": "code",
   "execution_count": 38,
   "metadata": {},
   "outputs": [],
   "source": [
    "def generate_random_date_for_project(start, end):\n",
    "    fake = Faker()\n",
    "    # year, month, day\n",
    "    return fake.date_between(start_date=f'-{start}y', end_date=f'-{end}y')"
   ]
  },
  {
   "cell_type": "markdown",
   "metadata": {},
   "source": [
    "To generate **100_000** records we need approximately `5-6 minutes`."
   ]
  },
  {
   "cell_type": "code",
   "execution_count": 49,
   "metadata": {},
   "outputs": [
    {
     "data": {
      "text/plain": [
       "['Innovative Infrastructure for Segmentation in Personalized Medicine',\n",
       " 'Autonomous Approach for Prediction in AI in Surveillance',\n",
       " 'Autonomous Model for Segmentation in Agricultural AI',\n",
       " 'Neural-based Platform for Optimization in Smart Cities',\n",
       " 'Scalable Protocol for Enhancement in Organ Regeneration',\n",
       " 'Autonomous Algorithm for Prediction in Pharmaceutical Research',\n",
       " 'Scalable Protocol for Simulation in Edge Computing',\n",
       " 'Innovative Algorithm for Forecasting in Climate Science',\n",
       " 'Innovative Methodology for Recognition in Adolescent Psychology',\n",
       " 'Adaptive Architecture for Prediction in Space Science']"
      ]
     },
     "execution_count": 49,
     "metadata": {},
     "output_type": "execute_result"
    }
   ],
   "source": [
    "research_project_df = {\n",
    "    \"Project_ID\": [],\n",
    "    \"Title\": [],\n",
    "    # \"Description\": [], remove description\n",
    "    \"Start_Date\": [],\n",
    "    \"End_Date\": [],\n",
    "    \"Research_Area\": [],\n",
    "    \"Status\": []\n",
    "}\n",
    "\n",
    "number_of_research_projects = int(input(\"Give the number for research projects: \"))\n",
    "project_id = 1\n",
    "\n",
    "for _ in range(number_of_research_projects):\n",
    "\n",
    "    research_project_df[\"Project_ID\"].append(project_id)\n",
    "\n",
    "    title, field = generate_title()\n",
    "    research_project_df[\"Title\"].append(title)\n",
    "    research_project_df[\"Research_Area\"].append(field)\n",
    "\n",
    "    project_status = random.choice([\"Completed\", \"Ongoing\"])\n",
    "    start_date = end_date = None\n",
    "    if project_status == \"Completed\":\n",
    "        start_date = generate_random_date_for_project(15, 5)\n",
    "        end_date = generate_random_date_for_project(4, 0)\n",
    "    if project_status == \"Ongoing\":\n",
    "        start_date = generate_random_date_for_project(10, 1)\n",
    "        end_date = None\n",
    "\n",
    "    research_project_df[\"Start_Date\"].append(start_date)\n",
    "    research_project_df[\"End_Date\"].append(end_date)\n",
    "    research_project_df[\"Status\"].append(project_status)\n",
    "\n",
    "    project_id += 1\n",
    "\n",
    "\n",
    "research_project_df[\"Title\"][:10]"
   ]
  },
  {
   "cell_type": "code",
   "execution_count": 50,
   "metadata": {},
   "outputs": [
    {
     "data": {
      "text/plain": [
       "[datetime.date(2014, 4, 9),\n",
       " datetime.date(2014, 8, 24),\n",
       " datetime.date(2018, 3, 25),\n",
       " datetime.date(2018, 4, 11),\n",
       " datetime.date(2011, 9, 15),\n",
       " datetime.date(2019, 6, 29),\n",
       " datetime.date(2023, 10, 9),\n",
       " datetime.date(2010, 12, 25),\n",
       " datetime.date(2015, 4, 24),\n",
       " datetime.date(2016, 4, 22)]"
      ]
     },
     "execution_count": 50,
     "metadata": {},
     "output_type": "execute_result"
    }
   ],
   "source": [
    "research_project_df[\"Start_Date\"][:10]"
   ]
  },
  {
   "cell_type": "code",
   "execution_count": 76,
   "metadata": {},
   "outputs": [
    {
     "data": {
      "text/plain": [
       "array([100000, 100001, 100002, 100003, 100004, 100005, 100006, 100007,\n",
       "       100008, 100009])"
      ]
     },
     "execution_count": 76,
     "metadata": {},
     "output_type": "execute_result"
    }
   ],
   "source": [
    "items = list(faculty_member_df.items())\n",
    "\n",
    "students = []\n",
    "professors = []\n",
    "\n",
    "for i in range(num_of_student_members):\n",
    "    students.append(faculty_member_df[\"University_ID\"][i])\n",
    "\n",
    "for i in range(num_of_student_members, num_of_student_members+num_of_prefessors_members):\n",
    "    professors.append(faculty_member_df[\"University_ID\"][i])\n",
    "\n",
    "students = np.array(students)\n",
    "professors = np.array(professors)\n",
    "students[:10]"
   ]
  },
  {
   "cell_type": "code",
   "execution_count": 77,
   "metadata": {},
   "outputs": [
    {
     "data": {
      "text/plain": [
       "(array([100851, 100606, 100651, 100493, 100423, 100673, 100333, 100915,\n",
       "        100829, 100250]),\n",
       " array([101167, 101145, 101150, 101014, 101199, 101143, 101077, 101223,\n",
       "        101184, 101120]))"
      ]
     },
     "execution_count": 77,
     "metadata": {},
     "output_type": "execute_result"
    }
   ],
   "source": [
    "random.shuffle(students)\n",
    "random.shuffle(professors)\n",
    "students[:10], professors[:10]"
   ]
  },
  {
   "cell_type": "code",
   "execution_count": 100,
   "metadata": {},
   "outputs": [
    {
     "name": "stdout",
     "output_type": "stream",
     "text": [
      "   University_ID  Project_ID     Role\n",
      "0         100851           1  Student\n",
      "1         100606           1  Student\n",
      "2         100651           1  Student\n",
      "3         100493           1  Student\n",
      "4         100423           1  Student\n"
     ]
    }
   ],
   "source": [
    "assignments = {\n",
    "    \"University_ID\": [],\n",
    "    \"Project_ID\": [],\n",
    "    \"Role\": []\n",
    "}\n",
    "student_index = 0\n",
    "professor_index = 0\n",
    "\n",
    "# Iterate over each project\n",
    "for project_id in research_project_df['Project_ID']:\n",
    "\n",
    "    # Randomly determine number of students (5 to 50) and professors (1 to 3)\n",
    "    num_students = random.randint(2, 20)\n",
    "    num_professors = random.randint(1, 3)\n",
    "\n",
    "    # Select students\n",
    "    selected_students = students[student_index:student_index + num_students]\n",
    "    student_index += len(selected_students)\n",
    "\n",
    "    # Select professors\n",
    "    selected_professors = professors[professor_index:professor_index + num_professors]\n",
    "    professor_index += len(selected_professors)\n",
    "\n",
    "    # Assign students to project\n",
    "    for student_id in selected_students:\n",
    "        # print(student_id)\n",
    "        assignments[\"University_ID\"].append(student_id)\n",
    "        assignments[\"Project_ID\"].append(project_id)\n",
    "        assignments[\"Role\"].append(\"Student\")\n",
    "\n",
    "    # Assign professors to project\n",
    "    for professor_id in selected_professors:\n",
    "        assignments[\"University_ID\"].append(professor_id)\n",
    "        assignments[\"Project_ID\"].append(project_id)\n",
    "        assignments[\"Role\"].append(\"Professor\")\n",
    "\n",
    "    # Stop if we run out of students or professors\n",
    "    if student_index >= len(students) or professor_index >= len(professors):\n",
    "        break\n",
    "\n",
    "# Convert assignments to DataFrame\n",
    "participants_df = pd.DataFrame(assignments)\n",
    "\n",
    "# Display sample\n",
    "print(participants_df.head())\n",
    "\n",
    "# Save to CSV if needed\n",
    "participants_df.to_csv(\"../GeneratedCSV/participants.csv\", index=False)"
   ]
  },
  {
   "cell_type": "code",
   "execution_count": 101,
   "metadata": {},
   "outputs": [
    {
     "name": "stdout",
     "output_type": "stream",
     "text": [
      "   University_ID  Project_ID       Role\n",
      "0         100851           1    Student\n",
      "1         100606           1    Student\n",
      "2         100651           1    Student\n",
      "3         100493           1    Student\n",
      "4         100423           1    Student\n",
      "5         100673           1    Student\n",
      "6         101167           1  Professor\n",
      "7         100333           2    Student\n",
      "8         100915           2    Student\n",
      "9         100829           2    Student\n"
     ]
    }
   ],
   "source": [
    "print(participants_df.head(10))"
   ]
  },
  {
   "cell_type": "code",
   "execution_count": 104,
   "metadata": {},
   "outputs": [
    {
     "data": {
      "text/plain": [
       "99"
      ]
     },
     "execution_count": 104,
     "metadata": {},
     "output_type": "execute_result"
    }
   ],
   "source": [
    "maks = max(participants_df[\"Project_ID\"])\n",
    "maks"
   ]
  },
  {
   "cell_type": "code",
   "execution_count": 110,
   "metadata": {},
   "outputs": [],
   "source": [
    "research_project_df_copy = {\n",
    "    \"Project_ID\": [],\n",
    "    \"Title\": [],\n",
    "    \"Start_Date\": [],\n",
    "    \"End_Date\": [],\n",
    "    \"Research_Area\": [],\n",
    "    \"Status\": []\n",
    "}\n",
    "\n",
    "for i in range(maks):\n",
    "\n",
    "    if research_project_df[\"Project_ID\"][i] > maks:\n",
    "        break\n",
    "\n",
    "    research_project_df_copy[\"Project_ID\"].append(research_project_df[\"Project_ID\"][i])\n",
    "    research_project_df_copy[\"Title\"].append(research_project_df[\"Title\"][i])\n",
    "    research_project_df_copy[\"Start_Date\"].append(research_project_df[\"Start_Date\"][i])\n",
    "    research_project_df_copy[\"End_Date\"].append(research_project_df[\"End_Date\"][i])\n",
    "    research_project_df_copy[\"Research_Area\"].append(research_project_df[\"Research_Area\"][i])\n",
    "    research_project_df_copy[\"Status\"].append(research_project_df[\"Status\"][i])\n",
    "\n",
    "pd.DataFrame(research_project_df_copy).to_csv(\"../GeneratedCSV/research_projects.csv\", index=False)"
   ]
  },
  {
   "cell_type": "code",
   "execution_count": null,
   "metadata": {},
   "outputs": [],
   "source": []
  }
 ],
 "metadata": {
  "kernelspec": {
   "display_name": "Python 3",
   "language": "python",
   "name": "python3"
  },
  "language_info": {
   "codemirror_mode": {
    "name": "ipython",
    "version": 3
   },
   "file_extension": ".py",
   "mimetype": "text/x-python",
   "name": "python",
   "nbconvert_exporter": "python",
   "pygments_lexer": "ipython3",
   "version": "3.9.2"
  },
  "orig_nbformat": 4
 },
 "nbformat": 4,
 "nbformat_minor": 2
}
